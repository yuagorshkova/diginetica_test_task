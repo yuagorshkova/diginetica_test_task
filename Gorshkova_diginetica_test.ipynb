{
 "cells": [
  {
   "cell_type": "code",
   "execution_count": 1,
   "metadata": {
    "colab": {
     "base_uri": "https://localhost:8080/"
    },
    "id": "UbmAfHx3ug5s",
    "outputId": "a38b80bc-c823-40ce-f137-9e0b4cc1da96"
   },
   "outputs": [],
   "source": [
    "import pandas as pd\n",
    "import numpy as np\n",
    "\n",
    "from sklearn.metrics.pairwise import cosine_similarity\n",
    "from sklearn.feature_extraction.text import CountVectorizer\n",
    "\n",
    "#!wget http://download.cdn.yandex.net/mystem/mystem-3.0-linux3.1-64bit.tar.gz\n",
    "#!tar -xvf mystem-3.0-linux3.1-64bit.tar.gz\n",
    "#!cp mystem /bin\n",
    "from pymystem3 import Mystem\n",
    "m = Mystem()\n",
    "\n",
    "from nltk.stem.snowball import SnowballStemmer\n",
    "stemmer = SnowballStemmer(\"russian\")\n",
    "\n",
    "%matplotlib inline"
   ]
  },
  {
   "cell_type": "markdown",
   "metadata": {},
   "source": [
    "Считываем данные из таблиц"
   ]
  },
  {
   "cell_type": "code",
   "execution_count": 5,
   "metadata": {
    "colab": {
     "base_uri": "https://localhost:8080/",
     "height": 355
    },
    "id": "IlOl3Vc5vD2l",
    "outputId": "399b71d5-8b04-43b6-b1e0-8dba22b3c9d2"
   },
   "outputs": [
    {
     "data": {
      "text/html": [
       "<div>\n",
       "<style scoped>\n",
       "    .dataframe tbody tr th:only-of-type {\n",
       "        vertical-align: middle;\n",
       "    }\n",
       "\n",
       "    .dataframe tbody tr th {\n",
       "        vertical-align: top;\n",
       "    }\n",
       "\n",
       "    .dataframe thead th {\n",
       "        text-align: right;\n",
       "    }\n",
       "</style>\n",
       "<table border=\"1\" class=\"dataframe\">\n",
       "  <thead>\n",
       "    <tr style=\"text-align: right;\">\n",
       "      <th></th>\n",
       "      <th>searchterm</th>\n",
       "      <th>count</th>\n",
       "    </tr>\n",
       "  </thead>\n",
       "  <tbody>\n",
       "    <tr>\n",
       "      <th>194229</th>\n",
       "      <td>629822b5</td>\n",
       "      <td>1</td>\n",
       "    </tr>\n",
       "    <tr>\n",
       "      <th>186962</th>\n",
       "      <td>привязь страховочная пятиточечная с фалом</td>\n",
       "      <td>1</td>\n",
       "    </tr>\n",
       "    <tr>\n",
       "      <th>9479</th>\n",
       "      <td>счётчик электроэнергии меркурий</td>\n",
       "      <td>6</td>\n",
       "    </tr>\n",
       "    <tr>\n",
       "      <th>46573</th>\n",
       "      <td>конвектор patriot</td>\n",
       "      <td>2</td>\n",
       "    </tr>\n",
       "    <tr>\n",
       "      <th>163715</th>\n",
       "      <td>бензиновый двигатель лифан</td>\n",
       "      <td>1</td>\n",
       "    </tr>\n",
       "    <tr>\n",
       "      <th>105297</th>\n",
       "      <td>биты stayer</td>\n",
       "      <td>1</td>\n",
       "    </tr>\n",
       "    <tr>\n",
       "      <th>214351</th>\n",
       "      <td>струубцина</td>\n",
       "      <td>1</td>\n",
       "    </tr>\n",
       "    <tr>\n",
       "      <th>137419</th>\n",
       "      <td>20 550</td>\n",
       "      <td>1</td>\n",
       "    </tr>\n",
       "    <tr>\n",
       "      <th>90445</th>\n",
       "      <td>краска аэрозольная coralino с30318 металлик яр...</td>\n",
       "      <td>1</td>\n",
       "    </tr>\n",
       "    <tr>\n",
       "      <th>128229</th>\n",
       "      <td>комплект постельного белья narcissa gr164956 с...</td>\n",
       "      <td>1</td>\n",
       "    </tr>\n",
       "  </tbody>\n",
       "</table>\n",
       "</div>"
      ],
      "text/plain": [
       "                                               searchterm  count\n",
       "194229                                           629822b5      1\n",
       "186962          привязь страховочная пятиточечная с фалом      1\n",
       "9479                      счётчик электроэнергии меркурий      6\n",
       "46573                                   конвектор patriot      2\n",
       "163715                         бензиновый двигатель лифан      1\n",
       "105297                                        биты stayer      1\n",
       "214351                                         струубцина      1\n",
       "137419                                             20 550      1\n",
       "90445   краска аэрозольная coralino с30318 металлик яр...      1\n",
       "128229  комплект постельного белья narcissa gr164956 с...      1"
      ]
     },
     "execution_count": 5,
     "metadata": {
      "tags": []
     },
     "output_type": "execute_result"
    }
   ],
   "source": [
    "all_queries = pd.read_csv('all_queries.csv', sep='\\t')\n",
    "all_queries.sample(10)"
   ]
  },
  {
   "cell_type": "code",
   "execution_count": 6,
   "metadata": {
    "colab": {
     "base_uri": "https://localhost:8080/",
     "height": 355
    },
    "id": "RIgS1lUzvaNX",
    "outputId": "3660a47f-c3fc-4e4a-f813-51de84f346fa"
   },
   "outputs": [
    {
     "data": {
      "text/html": [
       "<div>\n",
       "<style scoped>\n",
       "    .dataframe tbody tr th:only-of-type {\n",
       "        vertical-align: middle;\n",
       "    }\n",
       "\n",
       "    .dataframe tbody tr th {\n",
       "        vertical-align: top;\n",
       "    }\n",
       "\n",
       "    .dataframe thead th {\n",
       "        text-align: right;\n",
       "    }\n",
       "</style>\n",
       "<table border=\"1\" class=\"dataframe\">\n",
       "  <thead>\n",
       "    <tr style=\"text-align: right;\">\n",
       "      <th></th>\n",
       "      <th>query</th>\n",
       "      <th>url</th>\n",
       "    </tr>\n",
       "  </thead>\n",
       "  <tbody>\n",
       "    <tr>\n",
       "      <th>14521</th>\n",
       "      <td>multitronics компьютер маршрутн</td>\n",
       "      <td>catalog/bortovoi-marshrutnii-computer/?f=br__2...</td>\n",
       "    </tr>\n",
       "    <tr>\n",
       "      <th>30374</th>\n",
       "      <td>перфоратор сверл</td>\n",
       "      <td>catalog/bury/</td>\n",
       "    </tr>\n",
       "    <tr>\n",
       "      <th>29174</th>\n",
       "      <td>маск сварочн тсс</td>\n",
       "      <td>catalog/svarochnye-maski/?f=br__1168#h1</td>\n",
       "    </tr>\n",
       "    <tr>\n",
       "      <th>29623</th>\n",
       "      <td>мотокос ремн триммер</td>\n",
       "      <td>catalog/remni-dlya-trimmerov/</td>\n",
       "    </tr>\n",
       "    <tr>\n",
       "      <th>17784</th>\n",
       "      <td>septicsol биогранул</td>\n",
       "      <td>catalog/zhidkost-dlja-biotualeta/?f=br__354#h1</td>\n",
       "    </tr>\n",
       "    <tr>\n",
       "      <th>7420</th>\n",
       "      <td>frybest для запекан форм</td>\n",
       "      <td>catalog/vse-dlya-vypechki/?f=br__1182#h1</td>\n",
       "    </tr>\n",
       "    <tr>\n",
       "      <th>18795</th>\n",
       "      <td>stealth</td>\n",
       "      <td>producer/stealth/</td>\n",
       "    </tr>\n",
       "    <tr>\n",
       "      <th>5189</th>\n",
       "      <td>echo колпак</td>\n",
       "      <td>catalog/8-771/0/?f=br__28#h1</td>\n",
       "    </tr>\n",
       "    <tr>\n",
       "      <th>6903</th>\n",
       "      <td>fit инструмент проч ручн</td>\n",
       "      <td>catalog/prochij-ruchnoj-instrument/?f=br__444#h1</td>\n",
       "    </tr>\n",
       "    <tr>\n",
       "      <th>3816</th>\n",
       "      <td>chefout</td>\n",
       "      <td>/producer-1934/</td>\n",
       "    </tr>\n",
       "  </tbody>\n",
       "</table>\n",
       "</div>"
      ],
      "text/plain": [
       "                                 query                                                url\n",
       "14521  multitronics компьютер маршрутн  catalog/bortovoi-marshrutnii-computer/?f=br__2...\n",
       "30374                 перфоратор сверл                                      catalog/bury/\n",
       "29174                 маск сварочн тсс            catalog/svarochnye-maski/?f=br__1168#h1\n",
       "29623             мотокос ремн триммер                      catalog/remni-dlya-trimmerov/\n",
       "17784              septicsol биогранул     catalog/zhidkost-dlja-biotualeta/?f=br__354#h1\n",
       "7420          frybest для запекан форм           catalog/vse-dlya-vypechki/?f=br__1182#h1\n",
       "18795                          stealth                                  producer/stealth/\n",
       "5189                       echo колпак                       catalog/8-771/0/?f=br__28#h1\n",
       "6903          fit инструмент проч ручн   catalog/prochij-ruchnoj-instrument/?f=br__444#h1\n",
       "3816                           chefout                                    /producer-1934/"
      ]
     },
     "execution_count": 6,
     "metadata": {
      "tags": []
     },
     "output_type": "execute_result"
    }
   ],
   "source": [
    "redirects = pd.read_csv('redirects.tsv', sep='\\t')\n",
    "redirects.sample(10)"
   ]
  },
  {
   "cell_type": "markdown",
   "metadata": {},
   "source": [
    "В задании сказано, что в ответе необходимо получить соответстивя для запросов, которые встретились не меньше трех раз, так что для упрощения работы отфильтруем запросы сразу (не обнаружила в задании условий, по которым нам они будут необходимы в задаче)."
   ]
  },
  {
   "cell_type": "code",
   "execution_count": 7,
   "metadata": {
    "id": "bTHKQ2yfHNjH"
   },
   "outputs": [],
   "source": [
    "queries_filtered = all_queries[all_queries['count']>=3].copy().reset_index(drop=True)"
   ]
  },
  {
   "cell_type": "markdown",
   "metadata": {},
   "source": [
    "Проверим на наличие пустых элементов."
   ]
  },
  {
   "cell_type": "code",
   "execution_count": 8,
   "metadata": {
    "colab": {
     "base_uri": "https://localhost:8080/"
    },
    "id": "B9v1ope0EFQ7",
    "outputId": "b3b69c74-32f5-4b3f-fe6b-b3aa176c9904"
   },
   "outputs": [
    {
     "name": "stdout",
     "output_type": "stream",
     "text": [
      "  searchterm   count\n",
      "0        NaN  134696\n",
      "\n",
      "Empty DataFrame\n",
      "Columns: [query, url]\n",
      "Index: []\n"
     ]
    }
   ],
   "source": [
    "print(queries_filtered[queries_filtered['searchterm'].isna()], end='\\n\\n')\n",
    "print(redirects[redirects['query'].isna()])"
   ]
  },
  {
   "cell_type": "code",
   "execution_count": 9,
   "metadata": {
    "id": "GJX5krq2EaMq"
   },
   "outputs": [],
   "source": [
    "queries_filtered.drop(index=[0], inplace=True)"
   ]
  },
  {
   "cell_type": "markdown",
   "metadata": {},
   "source": [
    "После изучения данных в таблицах было обнаружено, что текстовые данные в таблице с редиректами уже предобработаны, притом не лемматизированы, а являются результатами стемминга. Для того чтобы учесть все варианты, применим оба алгоритма к данным таблицы запросов из базы."
   ]
  },
  {
   "cell_type": "code",
   "execution_count": 10,
   "metadata": {
    "id": "rlxqcFHn4c55"
   },
   "outputs": [],
   "source": [
    "# создаем колонку для лемматизированных текстов, используем лемматизатор pymystem, сохраняем все токены из букв и цифр\n",
    "queries_filtered['lem'] = queries_filtered['searchterm'].apply(lambda x: ' '.join([l for l in m.lemmatize(x.lower()) if not l.isspace()]) if type(x) is str else str(x))\n",
    "\n",
    "# создаем колонку для результатов стемминга, используем nltk SnowballStemmer для русского языка, сохраняем все токены из букв и цифр\n",
    "queries_filtered['stem'] = queries_filtered['searchterm'].apply(lambda x: ' '.join(\n",
    "    [stemmer.stem(t) for t in x.lower().split()]) if type (x) is str else str(x))"
   ]
  },
  {
   "cell_type": "markdown",
   "metadata": {},
   "source": [
    "# Эксперимент первый: лемматизация"
   ]
  },
  {
   "cell_type": "code",
   "execution_count": 10,
   "metadata": {
    "id": "EOaLh79V_p2n"
   },
   "outputs": [],
   "source": [
    "#обучаем бинарный CountVectorizer для получения модели Bag-of-words, учитывающей только вхождение или невхождение токена в текст\n",
    "vectorizer = CountVectorizer(binary=True)\n",
    "vectorizer.fit(queries_filtered['lem'].append(redirects['query']))\n",
    "\n",
    "# получаем вектора текстов для редиректов и лемматизированных запросов\n",
    "redirects_vec = vectorizer.transform(redirects['query'])\n",
    "queries_vec = vectorizer.transform(queries_filtered['lem'])"
   ]
  },
  {
   "cell_type": "code",
   "execution_count": 11,
   "metadata": {
    "colab": {
     "base_uri": "https://localhost:8080/",
     "height": 414
    },
    "id": "sz3guX-jHrPO",
    "outputId": "5bde6ebc-e958-41b8-da76-db187990d039"
   },
   "outputs": [
    {
     "data": {
      "text/html": [
       "<div>\n",
       "<style scoped>\n",
       "    .dataframe tbody tr th:only-of-type {\n",
       "        vertical-align: middle;\n",
       "    }\n",
       "\n",
       "    .dataframe tbody tr th {\n",
       "        vertical-align: top;\n",
       "    }\n",
       "\n",
       "    .dataframe thead th {\n",
       "        text-align: right;\n",
       "    }\n",
       "</style>\n",
       "<table border=\"1\" class=\"dataframe\">\n",
       "  <thead>\n",
       "    <tr style=\"text-align: right;\">\n",
       "      <th></th>\n",
       "      <th>query</th>\n",
       "      <th>url</th>\n",
       "    </tr>\n",
       "  </thead>\n",
       "  <tbody>\n",
       "    <tr>\n",
       "      <th>0</th>\n",
       "      <td>респиратор</td>\n",
       "      <td>catalog/respiratory/</td>\n",
       "    </tr>\n",
       "    <tr>\n",
       "      <th>1</th>\n",
       "      <td>шуруповерт</td>\n",
       "      <td>catalog/akkumulyatornye-dreli-shurupoverty/</td>\n",
       "    </tr>\n",
       "    <tr>\n",
       "      <th>2</th>\n",
       "      <td>компрессор</td>\n",
       "      <td>catalog/kompressory/</td>\n",
       "    </tr>\n",
       "    <tr>\n",
       "      <th>3</th>\n",
       "      <td>генератор</td>\n",
       "      <td>catalog/5-81/</td>\n",
       "    </tr>\n",
       "    <tr>\n",
       "      <th>4</th>\n",
       "      <td>степлер</td>\n",
       "      <td>catalog/steplery/</td>\n",
       "    </tr>\n",
       "    <tr>\n",
       "      <th>...</th>\n",
       "      <td>...</td>\n",
       "      <td>...</td>\n",
       "    </tr>\n",
       "    <tr>\n",
       "      <th>546</th>\n",
       "      <td>nws</td>\n",
       "      <td>producer/nws/</td>\n",
       "    </tr>\n",
       "    <tr>\n",
       "      <th>547</th>\n",
       "      <td>крона</td>\n",
       "      <td>/producer-3073/</td>\n",
       "    </tr>\n",
       "    <tr>\n",
       "      <th>548</th>\n",
       "      <td>тросорез</td>\n",
       "      <td>catalog/trosorezy/</td>\n",
       "    </tr>\n",
       "    <tr>\n",
       "      <th>549</th>\n",
       "      <td>тример</td>\n",
       "      <td>search/?q=%f2%f0%e8%ec%ec%e5%f0</td>\n",
       "    </tr>\n",
       "    <tr>\n",
       "      <th>550</th>\n",
       "      <td>мастер</td>\n",
       "      <td>producer/master/</td>\n",
       "    </tr>\n",
       "  </tbody>\n",
       "</table>\n",
       "<p>551 rows × 2 columns</p>\n",
       "</div>"
      ],
      "text/plain": [
       "          query                                          url\n",
       "0    респиратор                         catalog/respiratory/\n",
       "1    шуруповерт  catalog/akkumulyatornye-dreli-shurupoverty/\n",
       "2    компрессор                         catalog/kompressory/\n",
       "3     генератор                                catalog/5-81/\n",
       "4       степлер                            catalog/steplery/\n",
       "..          ...                                          ...\n",
       "546         nws                                producer/nws/\n",
       "547       крона                              /producer-3073/\n",
       "548    тросорез                           catalog/trosorezy/\n",
       "549      тример              search/?q=%f2%f0%e8%ec%ec%e5%f0\n",
       "550      мастер                             producer/master/\n",
       "\n",
       "[551 rows x 2 columns]"
      ]
     },
     "execution_count": 11,
     "metadata": {
      "tags": []
     },
     "output_type": "execute_result"
    }
   ],
   "source": [
    "# строим матрицу схожести используя косинусную близость\n",
    "match_matrix = cosine_similarity(queries_vec, redirects_vec, dense_output=True)\n",
    "# если косинусная близость равна единице, векторы полностью совпали, запросы одинаковы, запоминаем маску\n",
    "matches = np.where(match_matrix==1)\n",
    "# получаем датафрейм с результатами, используя индексы запросов и редиректов\n",
    "res_lem = pd.DataFrame({'query': list(queries_filtered['searchterm'].iloc[matches[0]]),\n",
    "                        'url': list(redirects['url'].iloc[matches[1]])}).drop_duplicates(ignore_index=True)\n",
    "\n",
    "res_lem.to_csv('/content/gdrive/MyDrive/diginetica/res_lem.csv')\n",
    "res_lem"
   ]
  },
  {
   "cell_type": "markdown",
   "metadata": {},
   "source": [
    "# Эксперимент второй: стемминг\n",
    "Шаги те же, что в первом"
   ]
  },
  {
   "cell_type": "code",
   "execution_count": 11,
   "metadata": {
    "id": "2ba74aEAJyCf"
   },
   "outputs": [],
   "source": [
    "vectorizer = CountVectorizer(binary=True)\n",
    "vectorizer.fit(queries_filtered['stem'].append(redirects['query']))\n",
    "\n",
    "redirects_vec = vectorizer.transform(redirects['query'])\n",
    "queries_vec = vectorizer.transform(queries_filtered['stem'])"
   ]
  },
  {
   "cell_type": "code",
   "execution_count": 12,
   "metadata": {
    "colab": {
     "base_uri": "https://localhost:8080/",
     "height": 414
    },
    "id": "ZL5TLfUoJzBn",
    "outputId": "365e4ca0-c395-4626-d06d-80d4da6e5595"
   },
   "outputs": [
    {
     "data": {
      "text/html": [
       "<div>\n",
       "<style scoped>\n",
       "    .dataframe tbody tr th:only-of-type {\n",
       "        vertical-align: middle;\n",
       "    }\n",
       "\n",
       "    .dataframe tbody tr th {\n",
       "        vertical-align: top;\n",
       "    }\n",
       "\n",
       "    .dataframe thead th {\n",
       "        text-align: right;\n",
       "    }\n",
       "</style>\n",
       "<table border=\"1\" class=\"dataframe\">\n",
       "  <thead>\n",
       "    <tr style=\"text-align: right;\">\n",
       "      <th></th>\n",
       "      <th>query</th>\n",
       "      <th>url</th>\n",
       "    </tr>\n",
       "  </thead>\n",
       "  <tbody>\n",
       "    <tr>\n",
       "      <th>0</th>\n",
       "      <td>респиратор</td>\n",
       "      <td>catalog/respiratory/</td>\n",
       "    </tr>\n",
       "    <tr>\n",
       "      <th>1</th>\n",
       "      <td>шуруповерт</td>\n",
       "      <td>catalog/akkumulyatornye-dreli-shurupoverty/</td>\n",
       "    </tr>\n",
       "    <tr>\n",
       "      <th>2</th>\n",
       "      <td>болгарка</td>\n",
       "      <td>catalog/2-46/0/</td>\n",
       "    </tr>\n",
       "    <tr>\n",
       "      <th>3</th>\n",
       "      <td>компрессор</td>\n",
       "      <td>catalog/kompressory/</td>\n",
       "    </tr>\n",
       "    <tr>\n",
       "      <th>4</th>\n",
       "      <td>генератор</td>\n",
       "      <td>catalog/5-81/</td>\n",
       "    </tr>\n",
       "    <tr>\n",
       "      <th>...</th>\n",
       "      <td>...</td>\n",
       "      <td>...</td>\n",
       "    </tr>\n",
       "    <tr>\n",
       "      <th>713</th>\n",
       "      <td>тросорез</td>\n",
       "      <td>catalog/trosorezy/</td>\n",
       "    </tr>\n",
       "    <tr>\n",
       "      <th>714</th>\n",
       "      <td>трещеткой</td>\n",
       "      <td>catalog/vorotki-privodi-treschetki/</td>\n",
       "    </tr>\n",
       "    <tr>\n",
       "      <th>715</th>\n",
       "      <td>тример</td>\n",
       "      <td>search/?q=%f2%f0%e8%ec%ec%e5%f0</td>\n",
       "    </tr>\n",
       "    <tr>\n",
       "      <th>716</th>\n",
       "      <td>мастер</td>\n",
       "      <td>producer/master/</td>\n",
       "    </tr>\n",
       "    <tr>\n",
       "      <th>717</th>\n",
       "      <td>гидроуровень</td>\n",
       "      <td>catalog/urovni-puzyrkovye/</td>\n",
       "    </tr>\n",
       "  </tbody>\n",
       "</table>\n",
       "<p>718 rows × 2 columns</p>\n",
       "</div>"
      ],
      "text/plain": [
       "            query                                          url\n",
       "0      респиратор                         catalog/respiratory/\n",
       "1      шуруповерт  catalog/akkumulyatornye-dreli-shurupoverty/\n",
       "2        болгарка                              catalog/2-46/0/\n",
       "3      компрессор                         catalog/kompressory/\n",
       "4       генератор                                catalog/5-81/\n",
       "..            ...                                          ...\n",
       "713      тросорез                           catalog/trosorezy/\n",
       "714     трещеткой          catalog/vorotki-privodi-treschetki/\n",
       "715        тример              search/?q=%f2%f0%e8%ec%ec%e5%f0\n",
       "716        мастер                             producer/master/\n",
       "717  гидроуровень                   catalog/urovni-puzyrkovye/\n",
       "\n",
       "[718 rows x 2 columns]"
      ]
     },
     "execution_count": 12,
     "metadata": {
      "tags": []
     },
     "output_type": "execute_result"
    }
   ],
   "source": [
    "match_matrix = cosine_similarity(queries_vec, redirects_vec, dense_output=True)\n",
    "matches = np.where(match_matrix==1)\n",
    "res_stem = pd.DataFrame({'query': list(queries_filtered['searchterm'].iloc[matches[0]]),\n",
    "                        'url': list(redirects['url'].iloc[matches[1]])}).drop_duplicates(ignore_index=True)\n",
    "\n",
    "res_stem.to_csv('/content/gdrive/MyDrive/diginetica/res_stem.csv')\n",
    "res_stem"
   ]
  },
  {
   "cell_type": "markdown",
   "metadata": {},
   "source": [
    "# Финальная таблица"
   ]
  },
  {
   "cell_type": "code",
   "execution_count": 2,
   "metadata": {
    "id": "YbiEj1fNKjCN"
   },
   "outputs": [],
   "source": [
    "res_stem = pd.read_csv('res_stem.csv', index_col=0)\n",
    "res_lem = pd.read_csv('res_lem.csv', index_col=0)"
   ]
  },
  {
   "cell_type": "code",
   "execution_count": 3,
   "metadata": {
    "colab": {
     "base_uri": "https://localhost:8080/",
     "height": 467
    },
    "id": "cVG1HUp_PuEp",
    "outputId": "892ed753-465b-42c6-cb23-7692bffc344f"
   },
   "outputs": [
    {
     "name": "stdout",
     "output_type": "stream",
     "text": [
      "Number of results after stemming: 718\n",
      "Number of results after lemmatization: 551\n",
      "Number of intersecting elements: 436\n",
      "282 unique stem and 115 unique lem elements left\n"
     ]
    },
    {
     "data": {
      "text/html": [
       "<div>\n",
       "<style scoped>\n",
       "    .dataframe tbody tr th:only-of-type {\n",
       "        vertical-align: middle;\n",
       "    }\n",
       "\n",
       "    .dataframe tbody tr th {\n",
       "        vertical-align: top;\n",
       "    }\n",
       "\n",
       "    .dataframe thead th {\n",
       "        text-align: right;\n",
       "    }\n",
       "</style>\n",
       "<table border=\"1\" class=\"dataframe\">\n",
       "  <thead>\n",
       "    <tr style=\"text-align: right;\">\n",
       "      <th></th>\n",
       "      <th>query</th>\n",
       "      <th>url</th>\n",
       "    </tr>\n",
       "  </thead>\n",
       "  <tbody>\n",
       "    <tr>\n",
       "      <th>0</th>\n",
       "      <td>респиратор</td>\n",
       "      <td>catalog/respiratory/</td>\n",
       "    </tr>\n",
       "    <tr>\n",
       "      <th>1</th>\n",
       "      <td>шуруповерт</td>\n",
       "      <td>catalog/akkumulyatornye-dreli-shurupoverty/</td>\n",
       "    </tr>\n",
       "    <tr>\n",
       "      <th>2</th>\n",
       "      <td>болгарка</td>\n",
       "      <td>catalog/2-46/0/</td>\n",
       "    </tr>\n",
       "    <tr>\n",
       "      <th>3</th>\n",
       "      <td>компрессор</td>\n",
       "      <td>catalog/kompressory/</td>\n",
       "    </tr>\n",
       "    <tr>\n",
       "      <th>4</th>\n",
       "      <td>генератор</td>\n",
       "      <td>catalog/5-81/</td>\n",
       "    </tr>\n",
       "    <tr>\n",
       "      <th>...</th>\n",
       "      <td>...</td>\n",
       "      <td>...</td>\n",
       "    </tr>\n",
       "    <tr>\n",
       "      <th>828</th>\n",
       "      <td>сантехнить</td>\n",
       "      <td>/producer-1659/</td>\n",
       "    </tr>\n",
       "    <tr>\n",
       "      <th>829</th>\n",
       "      <td>olfa</td>\n",
       "      <td>producer/olfa/</td>\n",
       "    </tr>\n",
       "    <tr>\n",
       "      <th>830</th>\n",
       "      <td>тольятти</td>\n",
       "      <td>/producer-3375/</td>\n",
       "    </tr>\n",
       "    <tr>\n",
       "      <th>831</th>\n",
       "      <td>itelma</td>\n",
       "      <td>/producer-1627/</td>\n",
       "    </tr>\n",
       "    <tr>\n",
       "      <th>832</th>\n",
       "      <td>крона</td>\n",
       "      <td>/producer-3073/</td>\n",
       "    </tr>\n",
       "  </tbody>\n",
       "</table>\n",
       "<p>833 rows × 2 columns</p>\n",
       "</div>"
      ],
      "text/plain": [
       "          query                                          url\n",
       "0    респиратор                         catalog/respiratory/\n",
       "1    шуруповерт  catalog/akkumulyatornye-dreli-shurupoverty/\n",
       "2      болгарка                              catalog/2-46/0/\n",
       "3    компрессор                         catalog/kompressory/\n",
       "4     генератор                                catalog/5-81/\n",
       "..          ...                                          ...\n",
       "828  сантехнить                              /producer-1659/\n",
       "829        olfa                               producer/olfa/\n",
       "830    тольятти                              /producer-3375/\n",
       "831      itelma                              /producer-1627/\n",
       "832       крона                              /producer-3073/\n",
       "\n",
       "[833 rows x 2 columns]"
      ]
     },
     "execution_count": 3,
     "metadata": {},
     "output_type": "execute_result"
    }
   ],
   "source": [
    "print('Number of results after stemming: {}'.format(res_stem.shape[0]))\n",
    "print('Number of results after lemmatization: {}'.format(res_lem.shape[0]))\n",
    "\n",
    "full = res_stem.append(res_lem, ignore_index=True)\n",
    "\n",
    "print('Number of intersecting elements: {}'.format(full.duplicated().sum()))\n",
    "print('{} unique stem and {} unique lem elements left'.format(res_stem.shape[0]-full.duplicated().sum(), res_lem.shape[0]-full.duplicated().sum()))\n",
    "\n",
    "full.drop_duplicates(inplace=True, ignore_index=True)\n",
    "full.to_csv('/content/gdrive/MyDrive/diginetica/result.csv')\n",
    "\n",
    "full"
   ]
  }
 ],
 "metadata": {
  "colab": {
   "name": "Gorshkova_diginetica_test.ipynb",
   "provenance": []
  },
  "kernelspec": {
   "display_name": "Python 3",
   "language": "python",
   "name": "python3"
  },
  "language_info": {
   "codemirror_mode": {
    "name": "ipython",
    "version": 3
   },
   "file_extension": ".py",
   "mimetype": "text/x-python",
   "name": "python",
   "nbconvert_exporter": "python",
   "pygments_lexer": "ipython3",
   "version": "3.8.5"
  }
 },
 "nbformat": 4,
 "nbformat_minor": 1
}
